{
 "metadata": {
  "language_info": {
   "codemirror_mode": {
    "name": "ipython",
    "version": 3
   },
   "file_extension": ".py",
   "mimetype": "text/x-python",
   "name": "python",
   "nbconvert_exporter": "python",
   "pygments_lexer": "ipython3",
   "version": "3.8.6"
  },
  "orig_nbformat": 2,
  "kernelspec": {
   "name": "python386jvsc74a57bd018f456d992e411895f85d161c765ba15af73e07f2abfa95e48c62e679a35999b",
   "display_name": "Python 3.8.6 64-bit"
  }
 },
 "nbformat": 4,
 "nbformat_minor": 2,
 "cells": [
  {
   "source": [
    "# Test with SQLite3"
   ],
   "cell_type": "markdown",
   "metadata": {}
  },
  {
   "cell_type": "code",
   "execution_count": 5,
   "metadata": {},
   "outputs": [],
   "source": [
    "import sqlite3\n",
    "import pandas as pd\n",
    "\n",
    "con = sqlite3.connect(\"resources/sql/q-values.db\")\n",
    "c = con.cursor()"
   ]
  },
  {
   "cell_type": "code",
   "execution_count": 8,
   "metadata": {},
   "outputs": [],
   "source": [
    "t = pd.DataFrame(columns=[0,1,2,3])"
   ]
  },
  {
   "cell_type": "code",
   "execution_count": 10,
   "metadata": {},
   "outputs": [],
   "source": [
    "t.to_sql(\"LOOKUP_2\", con, if_exists=\"replace\", dtype=\"float\")"
   ]
  },
  {
   "cell_type": "code",
   "execution_count": 113,
   "metadata": {},
   "outputs": [
    {
     "output_type": "stream",
     "name": "stdout",
     "text": [
      "ROLLBACK\n"
     ]
    }
   ],
   "source": [
    "con.rollback()"
   ]
  },
  {
   "cell_type": "code",
   "execution_count": 80,
   "metadata": {},
   "outputs": [],
   "source": [
    "def update_value_from_state_and_action(cursor, table, state, action, value):\n",
    "    c.execute('''UPDATE \"{}\" SET \"{}\"={} WHERE \"index\"=?'''.format(table, str(action), value), [str(state)])"
   ]
  },
  {
   "cell_type": "code",
   "execution_count": 4,
   "metadata": {},
   "outputs": [],
   "source": [
    "def get_values_from_state(cursor, table, state, default=[0,0,0,0]):\n",
    "    try:\n",
    "        cursor.execute('''SELECT * FROM \"{}\" WHERE \"index\" = ?'''.format(table), [state])\n",
    "        results = cursor.fetchone()\n",
    "        if results is not None: return results[1:]\n",
    "        else: return default\n",
    "    except:\n",
    "        raise Warning(\"An error occured while performing get_values_from_state\")\n",
    "        return None"
   ]
  },
  {
   "cell_type": "code",
   "execution_count": 106,
   "metadata": {},
   "outputs": [],
   "source": [
    "def insert_new_state(cursor, table, state):\n",
    "    cursor.execute('''INSERT INTO \"{}\" VALUES (?, 0, 0, 0, 0)'''.format(table), [state])"
   ]
  },
  {
   "cell_type": "code",
   "execution_count": 79,
   "metadata": {},
   "outputs": [
    {
     "output_type": "stream",
     "name": "stdout",
     "text": [
      "UPDATE LOOKUP_5 SET \"0\"=30 WHERE \"index\"=?\nUPDATE LOOKUP_5 SET \"0\"=30 WHERE \"index\"='4444444444444444444444444444444444440000004444400000044444002000444440010004444400100344444000000444444444444444444444444-00'\n"
     ]
    }
   ],
   "source": [
    "update_value_from_state_and_action(c, \"LOOKUP_5\", \"4444444444444444444444444444444444440000004444400000044444002000444440010004444400100344444000000444444444444444444444444-00\", 0, 30)"
   ]
  },
  {
   "cell_type": "code",
   "execution_count": 6,
   "metadata": {},
   "outputs": [
    {
     "output_type": "execute_result",
     "data": {
      "text/plain": [
       "(29, 50, 41, 21)"
      ]
     },
     "metadata": {},
     "execution_count": 6
    }
   ],
   "source": [
    "get_values_from_state(c, \"LOOKUP_5\", \"4444444444444444444444444444444444440000004444400000044444002000444440010004444400100344444000000444444444444444444444444-00\")"
   ]
  },
  {
   "cell_type": "code",
   "execution_count": 111,
   "metadata": {},
   "outputs": [
    {
     "output_type": "stream",
     "name": "stdout",
     "text": [
      "BEGIN \nINSERT INTO \"LOOKUP_5\" VALUES ('abc', 0, 0, 0, 0)\n"
     ]
    }
   ],
   "source": [
    "insert_new_state(c, \"LOOKUP_5\", \"abc\")"
   ]
  },
  {
   "cell_type": "code",
   "execution_count": 2,
   "metadata": {},
   "outputs": [],
   "source": [
    "con.commit()"
   ]
  },
  {
   "cell_type": "code",
   "execution_count": 94,
   "metadata": {},
   "outputs": [
    {
     "output_type": "execute_result",
     "data": {
      "text/plain": [
       "(1, 2, 3, 4)"
      ]
     },
     "metadata": {},
     "execution_count": 94
    }
   ],
   "source": [
    "r = [\"abc\",1,2,3,4]\n",
    "tuple(r[1:])"
   ]
  },
  {
   "cell_type": "code",
   "execution_count": 8,
   "metadata": {},
   "outputs": [],
   "source": [
    "con.close()"
   ]
  },
  {
   "source": [
    "# Other stuffs"
   ],
   "cell_type": "markdown",
   "metadata": {}
  },
  {
   "cell_type": "code",
   "execution_count": 2,
   "metadata": {},
   "outputs": [],
   "source": [
    "from custom_snake.snake_env import SnakeEnv"
   ]
  },
  {
   "cell_type": "code",
   "execution_count": 3,
   "metadata": {},
   "outputs": [
    {
     "output_type": "execute_result",
     "data": {
      "text/plain": [
       "(0, 3)"
      ]
     },
     "metadata": {},
     "execution_count": 3
    }
   ],
   "source": [
    "ENV = SnakeEnv([5,5])\n",
    "ENV.reset()"
   ]
  },
  {
   "cell_type": "code",
   "execution_count": 23,
   "metadata": {},
   "outputs": [
    {
     "output_type": "execute_result",
     "data": {
      "text/plain": [
       "array([[0., 2., 0., 0.],\n",
       "       [0., 1., 0., 0.],\n",
       "       [0., 1., 0., 0.]])"
      ]
     },
     "metadata": {},
     "execution_count": 23
    }
   ],
   "source": [
    "LOOKUP = \n",
    "x, y = ENV.board.snake.head\n",
    "\n",
    "xs, xm = max(0, x-LOOKUP), min(ENV.board.x, x+LOOKUP+1)\n",
    "ys, ym = max(0, y-LOOKUP), min(ENV.board.y, y+LOOKUP+1)\n",
    "\n",
    "ENV.board.board[xs:xm, ys:ym]"
   ]
  },
  {
   "cell_type": "code",
   "execution_count": 6,
   "metadata": {},
   "outputs": [],
   "source": [
    "from numpy import reshape"
   ]
  },
  {
   "cell_type": "code",
   "execution_count": 24,
   "metadata": {},
   "outputs": [],
   "source": [
    "a = reshape(ENV.board.get_around(ENV.board.snake.head, 2), (5,5))"
   ]
  },
  {
   "cell_type": "code",
   "execution_count": 21,
   "metadata": {},
   "outputs": [],
   "source": [
    "ab = list(map(lambda x: int(x > 0), b))"
   ]
  },
  {
   "cell_type": "code",
   "execution_count": 20,
   "metadata": {},
   "outputs": [],
   "source": [
    "b = [a[0,1],\n",
    "a[1,0],\n",
    "a[1,2],\n",
    "a[2,1]]"
   ]
  }
 ]
}